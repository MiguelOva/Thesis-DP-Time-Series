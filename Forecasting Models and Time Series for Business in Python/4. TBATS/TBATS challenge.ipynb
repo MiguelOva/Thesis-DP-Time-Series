{
 "cells": [
  {
   "cell_type": "markdown",
   "metadata": {
    "id": "dahDiHVjZiV8"
   },
   "source": [
    "#Libraries and data"
   ]
  },
  {
   "cell_type": "code",
   "execution_count": null,
   "metadata": {
    "id": "dI0KyOfaYKDZ"
   },
   "outputs": [],
   "source": [
    "!pip install tbats"
   ]
  },
  {
   "cell_type": "code",
   "execution_count": null,
   "metadata": {
    "id": "c9XdLrylac59"
   },
   "outputs": [],
   "source": [
    "%cd /content/drive/MyDrive/Personal/Forecasting Models and Time Series for Business in Python 2021/4. TBATS"
   ]
  },
  {
   "cell_type": "code",
   "execution_count": null,
   "metadata": {
    "id": "NIVqOiSSZp6f"
   },
   "outputs": [],
   "source": [
    "import pandas as pd"
   ]
  },
  {
   "cell_type": "code",
   "execution_count": null,
   "metadata": {
    "id": "snjZypn3aObm"
   },
   "outputs": [],
   "source": [
    "df = pd.read_csv(\"daily-footfall.csv\", \n",
    "                 index_col=\"WeekBeginning\")\n",
    "df.head()"
   ]
  },
  {
   "cell_type": "code",
   "execution_count": null,
   "metadata": {
    "id": "HJXXdcjliknx"
   },
   "outputs": [],
   "source": [
    "df.index = pd.to_datetime(df.index, \n",
    "                          format = \"%d/%m/%Y\")\n",
    "df.index"
   ]
  },
  {
   "cell_type": "code",
   "execution_count": null,
   "metadata": {
    "id": "R5pVmo_scbHz"
   },
   "outputs": [],
   "source": [
    "df = df.asfreq(\"W-SUN\")\n",
    "df.index"
   ]
  },
  {
   "cell_type": "markdown",
   "metadata": {
    "id": "YReYfhkDdKA6"
   },
   "source": [
    "#Visualization"
   ]
  },
  {
   "cell_type": "code",
   "execution_count": null,
   "metadata": {
    "id": "au09vm9laWvl"
   },
   "outputs": [],
   "source": [
    "#Visualization\n",
    "df.plot(figsize = (12,8))"
   ]
  },
  {
   "cell_type": "code",
   "execution_count": null,
   "metadata": {
    "id": "QjJYcmoIlcXG"
   },
   "outputs": [],
   "source": [
    "df = df.fillna(method='ffill')"
   ]
  },
  {
   "cell_type": "code",
   "execution_count": null,
   "metadata": {
    "id": "of06atnKjfol"
   },
   "outputs": [],
   "source": [
    "#training and test set\n",
    "test_days = 5\n",
    "training_set = df.iloc[:-test_days,:]\n",
    "test_set = df.iloc[-test_days:,:]\n",
    "training_set.head()"
   ]
  },
  {
   "cell_type": "code",
   "execution_count": null,
   "metadata": {
    "id": "MsO_rhwEj5zt"
   },
   "outputs": [],
   "source": [
    "#TBATS\n",
    "from tbats import TBATS\n",
    "model = TBATS(\n",
    "    seasonal_periods=[52]).fit(\n",
    "    training_set.AveragePerDay)"
   ]
  },
  {
   "cell_type": "code",
   "execution_count": null,
   "metadata": {
    "id": "riIReH-UkCvz"
   },
   "outputs": [],
   "source": [
    "#predictions\n",
    "predictions_tbats = pd.Series(\n",
    "    model.forecast(len(test_set))).rename(\"TBATS\")\n",
    "predictions_tbats.index = test_set.index\n",
    "predictions_tbats.head()"
   ]
  },
  {
   "cell_type": "code",
   "execution_count": null,
   "metadata": {
    "id": "43Dzo8xnlw1R"
   },
   "outputs": [],
   "source": [
    "#plotting\n",
    "training_set.AveragePerDay.plot(figsize=(12,8), \n",
    "                                legend = True)\n",
    "test_set.AveragePerDay.plot(legend = True)\n",
    "predictions_tbats.plot(legend = True)"
   ]
  },
  {
   "cell_type": "code",
   "execution_count": null,
   "metadata": {
    "id": "fcaXS9W_mTZq"
   },
   "outputs": [],
   "source": [
    "#accuracy assessment\n",
    "from sklearn.metrics import mean_squared_error\n",
    "import numpy as np\n",
    "np.sqrt(mean_squared_error(test_set['y'], \n",
    "                           predictions_tbats))"
   ]
  }
 ],
 "metadata": {
  "colab": {
   "authorship_tag": "ABX9TyPStxXo6B79GufwzJIbL8se",
   "mount_file_id": "1p42FZL8SjgenpD7QlCiqxwQM0M8en8-o",
   "name": "TBATS challenge.ipynb",
   "provenance": []
  },
  "kernelspec": {
   "display_name": "Python 3 (ipykernel)",
   "language": "python",
   "name": "python3"
  },
  "language_info": {
   "codemirror_mode": {
    "name": "ipython",
    "version": 3
   },
   "file_extension": ".py",
   "mimetype": "text/x-python",
   "name": "python",
   "nbconvert_exporter": "python",
   "pygments_lexer": "ipython3",
   "version": "3.10.4"
  }
 },
 "nbformat": 4,
 "nbformat_minor": 1
}
